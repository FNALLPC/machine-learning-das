{
 "cells": [
  {
   "cell_type": "markdown",
   "metadata": {},
   "source": [
    "# Setup Libraries\n",
    "\n",
    "These instructions install `miniconda` and the requisite libraries for the tutorial in a `conda` environment, which is an independent python installation.\n",
    "\n",
    "Jupyter has the similar concept of _kernels_, which are independent execution environments. They don't even have to be Python, kernels for other languages exist as well.\n",
    "\n",
    "By loading a separate kernel for each project, we avoid the complication of different components/projects having weird interactions, ultimately helping reproducibility.\n",
    "\n",
    "We first produce a new conda environment with the libraries we require, then we tell Jupyter about this new environment with the ipython executable\n",
    "\n",
    "NOTE: This step may take a little while"
   ]
  },
  {
   "cell_type": "code",
   "execution_count": null,
   "metadata": {},
   "outputs": [],
   "source": [
    "%%bash\n",
    "#!/bin/bash\n",
    "\n",
    "KERNEL_NAME=\"machine-learning-das\"\n",
    "\n",
    "# Download mambaforge install script\n",
    "if [[ ! -f $HOME/miniconda3.sh ]]; then\n",
    "    wget \"https://github.com/conda-forge/miniforge/releases/latest/download/Miniforge3-$(uname)-$(uname -m).sh\" -O $HOME/miniconda3.sh || { echo \"Failed to download the miniforge installation script.\"; exit $?; }\n",
    "fi\n",
    "\n",
    "# Install miniconda3\n",
    "if [[ ! -d $HOME/miniconda3 ]]; then\n",
    "    bash $HOME/miniconda3.sh -b -f -u -p $HOME/miniconda3\n",
    "fi\n",
    "\n",
    "# echo \"Sourcing the conda and mamba setup scripts...\"\n",
    "source $HOME/miniconda3/etc/profile.d/conda.sh\n",
    "\n",
    "# # Create conda environment\n",
    "if [[ ! -d $HOME/miniconda3/envs/$KERNEL_NAME ]]; then\n",
    "    echo \"Creating the miniconda3 environment \\\"$KERNEL_NAME\\\"...\"\n",
    "    conda env create -n $KERNEL_NAME -f environment.yml || { echo \"Failed to properly setup the environment \\\"$KERNEL_NAME\\\" using mamba.\"; exit $?; }\n",
    "fi\n",
    "echo \"Activating the kernel \\\"$KERNEL_NAME\\\"...\"\n",
    "conda activate $KERNEL_NAME || { echo \"Failed to activate the kernel \\\"$KERNEL_NAME\\\".\"; exit $?; }\n",
    "\n",
    "python -m ipykernel install --name $KERNEL_NAME --user\n",
    "echo \"Installed \\\"$KERNEL_NAME\\\"!\""
   ]
  },
  {
   "cell_type": "markdown",
   "metadata": {},
   "source": [
    "Results\n",
    "=======\n",
    "\n",
    "If successful, you should see something similar to the following:\n",
    "\n",
    "```\n",
    "Installed \"machine-learning-das\"!\n",
    "```\n",
    "\n",
    "The new kernel you just made will then show up in the various Jupyter notebooks after refreshing the page."
   ]
  },
  {
   "cell_type": "markdown",
   "metadata": {},
   "source": []
  }
 ],
 "metadata": {
  "kernelspec": {
   "display_name": "Python 3",
   "language": "python",
   "name": "python3"
  },
  "language_info": {
   "codemirror_mode": {
    "name": "ipython",
    "version": 3
   },
   "file_extension": ".py",
   "mimetype": "text/x-python",
   "name": "python",
   "nbconvert_exporter": "python",
   "pygments_lexer": "ipython3",
   "version": "3.6.8"
  }
 },
 "nbformat": 4,
 "nbformat_minor": 2
}
