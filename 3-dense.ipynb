{
 "cells": [
  {
   "cell_type": "markdown",
   "metadata": {},
   "source": [
    "# Dense neural network with Keras\n",
    "Author: Javier Duarte"
   ]
  },
  {
   "cell_type": "markdown",
   "metadata": {},
   "source": [
    "## Loading `pandas` DataFrames\n",
    "Now we load two different `NumPy` arrays. One corresponding to the VV signal and one corresponding to the background."
   ]
  },
  {
   "cell_type": "code",
   "execution_count": null,
   "metadata": {},
   "outputs": [],
   "source": [
    "import uproot\n",
    "import numpy as np\n",
    "import pandas as pd\n",
    "import h5py\n",
    "\n",
    "# fix random seed for reproducibility\n",
    "seed = 7\n",
    "np.random.seed(seed)\n",
    "\n",
    "treename = 'HZZ4LeptonsAnalysisReduced'\n",
    "filename = {}\n",
    "upfile = {}\n",
    "params = {}\n",
    "df = {}\n",
    "\n",
    "filename['VV'] = 'data/ntuple_4mu_VV.root'\n",
    "filename['bkg'] = 'data/ntuple_4mu_bkg.root'\n",
    "\n",
    "VARS = ['f_mass4l','f_massjj'] # choose which vars to use (2d)\n",
    "\n",
    "upfile['VV'] = uproot.open(filename['VV'])\n",
    "params['VV'] = upfile['VV'][treename].arrays(VARS)\n",
    "upfile['bkg'] = uproot.open(filename['bkg'])\n",
    "params['bkg'] = upfile['bkg'][treename].arrays(VARS)\n",
    "\n",
    "df['VV'] = pd.DataFrame(params['VV'],columns=VARS)\n",
    "df['bkg'] = pd.DataFrame(params['bkg'],columns=VARS)\n",
    "\n",
    "# cut out undefined variables VARS[0] and VARS[1] > -999\n",
    "df['VV']= df['VV'][(df['VV'][VARS[0]] > -999) & (df['VV'][VARS[1]] > -999)]\n",
    "df['bkg']= df['bkg'][(df['bkg'][VARS[0]] > -999) & (df['bkg'][VARS[1]] > -999)] \n",
    "\n",
    "# add isSignal variable\n",
    "df['VV']['isSignal'] = np.ones(len(df['VV'])) \n",
    "df['bkg']['isSignal'] = np.zeros(len(df['bkg'])) "
   ]
  },
  {
   "cell_type": "markdown",
   "metadata": {},
   "source": [
    "## Define the model\n",
    "We'll start with a dense (fully-connected) NN layer.\n",
    "Our model will have a single fully-connected hidden layer with the same number of neurons as input variables. \n",
    "The weights are initialized using a small Gaussian random number. \n",
    "We will switch between linear and tanh activation functions for the hidden layer.\n",
    "The output layer contains a single neuron in order to make predictions. \n",
    "It uses the sigmoid activation function in order to produce a probability output in the range of 0 to 1.\n",
    "\n",
    "We are using the `binary_crossentropy` loss function during training, a standard loss function for binary classification problems. \n",
    "We will optimize the model with the Adam algorithm for stochastic gradient descent and we will collect accuracy metrics while the model is trained."
   ]
  },
  {
   "cell_type": "code",
   "execution_count": null,
   "metadata": {},
   "outputs": [],
   "source": [
    "# baseline keras model\n",
    "from keras.models import Sequential, Model\n",
    "from keras.optimizers import SGD\n",
    "from keras.layers import Input, Activation, Dense, Convolution2D, MaxPooling2D, Dropout, Flatten\n",
    "from keras.utils import np_utils\n",
    "\n",
    "NDIM = len(VARS)\n",
    "inputs = Input(shape=(NDIM,), name = 'input')  \n",
    "outputs = Dense(1, name = 'output', kernel_initializer='normal', activation='sigmoid')(inputs)\n",
    "\n",
    "# creae the model\n",
    "model = Model(inputs=inputs, outputs=outputs)\n",
    "# compile the model\n",
    "model.compile(optimizer='adam', loss='binary_crossentropy', metrics=['accuracy'])\n",
    "# print the model summary\n",
    "model.summary()"
   ]
  },
  {
   "cell_type": "markdown",
   "metadata": {},
   "source": [
    "## Dividing the data into testing and training dataset\n",
    "\n",
    "We will split the data into two parts (one for training+validation and one for testing). \n",
    "We will also apply \"standard scaling\" preprocessing: http://scikit-learn.org/stable/modules/generated/sklearn.preprocessing.StandardScaler.html i.e. making the mean = 0 and the RMS = 1 for all input variables (based **only** on the training/validation dataset).\n",
    "We will also define our early stopping criteria to prevent over-fitting and we will save the model based on the best `val_loss`."
   ]
  },
  {
   "cell_type": "code",
   "execution_count": null,
   "metadata": {},
   "outputs": [],
   "source": [
    "df_all = pd.concat([df['VV'],df['bkg']])\n",
    "dataset = df_all.values\n",
    "X = dataset[:,0:NDIM]\n",
    "Y = dataset[:,NDIM]\n",
    "\n",
    "from sklearn.model_selection import train_test_split\n",
    "X_train_val, X_test, Y_train_val, Y_test = train_test_split(X, Y, test_size=0.2, random_state=7)\n",
    "\n",
    "# preprocessing: standard scalar\n",
    "from sklearn.preprocessing import StandardScaler\n",
    "scaler = StandardScaler().fit(X_train_val)\n",
    "X_train_val = scaler.transform(X_train_val)\n",
    "X_test = scaler.transform(X_test)\n",
    "\n",
    "# early stopping callback\n",
    "from keras.callbacks import EarlyStopping\n",
    "early_stopping = EarlyStopping(monitor='val_loss', patience=10)\n",
    "\n",
    "# model checkpoint callback\n",
    "# this saves our model architecture + parameters into dense_model.h5\n",
    "from keras.callbacks import ModelCheckpoint\n",
    "model_checkpoint = ModelCheckpoint('dense_model.h5', monitor='val_loss', \n",
    "                                   verbose=0, save_best_only=True, \n",
    "                                   save_weights_only=False, mode='auto', \n",
    "                                   period=1)"
   ]
  },
  {
   "cell_type": "markdown",
   "metadata": {},
   "source": [
    "## Run training \n",
    "Here, we run the training."
   ]
  },
  {
   "cell_type": "code",
   "execution_count": null,
   "metadata": {},
   "outputs": [],
   "source": [
    "# Train classifier\n",
    "history = model.fit(X_train_val, \n",
    "                    Y_train_val, \n",
    "                    epochs=1000, \n",
    "                    batch_size=1024, \n",
    "                    verbose=0, # switch to 1 for more verbosity \n",
    "                    callbacks=[early_stopping, model_checkpoint], \n",
    "                    validation_split=0.25)"
   ]
  },
  {
   "cell_type": "markdown",
   "metadata": {},
   "source": [
    "## Plot performance\n",
    "Here, we plot the history of the training and the performance in a ROC curve"
   ]
  },
  {
   "cell_type": "code",
   "execution_count": null,
   "metadata": {},
   "outputs": [],
   "source": [
    "import matplotlib.pyplot as plt\n",
    "%matplotlib inline\n",
    "# plot loss vs epoch\n",
    "plt.figure(figsize=(15,10))\n",
    "ax = plt.subplot(2, 2, 1)\n",
    "ax.plot(history.history['loss'], label='loss')\n",
    "ax.plot(history.history['val_loss'], label='val_loss')\n",
    "ax.legend(loc=\"upper right\")\n",
    "ax.set_xlabel('epoch')\n",
    "ax.set_ylabel('loss')\n",
    "\n",
    "# plot accuracy vs epoch\n",
    "ax = plt.subplot(2, 2, 2)\n",
    "ax.plot(history.history['acc'], label='acc')\n",
    "ax.plot(history.history['val_acc'], label='val_acc')\n",
    "ax.legend(loc=\"upper left\")\n",
    "ax.set_xlabel('epoch')\n",
    "ax.set_ylabel('acc')\n",
    "\n",
    "# Plot ROC\n",
    "Y_predict = model.predict(X_test)\n",
    "from sklearn.metrics import roc_curve, auc\n",
    "fpr, tpr, thresholds = roc_curve(Y_test, Y_predict)\n",
    "roc_auc = auc(fpr, tpr)\n",
    "ax = plt.subplot(2, 2, 3)\n",
    "ax.plot(fpr, tpr, lw=2, color='cyan', label='auc = %.3f' % (roc_auc))\n",
    "ax.plot([0, 1], [0, 1], linestyle='--', lw=2, color='k', label='random chance')\n",
    "ax.set_xlim([0, 1.0])\n",
    "ax.set_ylim([0, 1.0])\n",
    "ax.set_xlabel('false positive rate')\n",
    "ax.set_ylabel('true positive rate')\n",
    "ax.set_title('receiver operating curve')\n",
    "ax.legend(loc=\"lower right\")\n",
    "plt.show()"
   ]
  },
  {
   "cell_type": "code",
   "execution_count": null,
   "metadata": {},
   "outputs": [],
   "source": [
    "df_all['dense'] = model.predict(X) # add prediction to array\n",
    "print df_all.iloc[:5]"
   ]
  },
  {
   "cell_type": "markdown",
   "metadata": {},
   "source": [
    "# Plot NN output vs input variables\n",
    "Here, we will plot the NN output and devision boundary as a function of the input variables.\n",
    "\n",
    "**Question 1:** How can we fill the correct numpy arrays for plotting?"
   ]
  },
  {
   "cell_type": "code",
   "execution_count": null,
   "metadata": {},
   "outputs": [],
   "source": [
    "# Hint: We want to make a three 2D numpy arrays: \n",
    "# x values at each (x, y) grid point\n",
    "# y values at each (x, y) grid point\n",
    "# z values (model prediction) at each (x, y) grid point\n",
    "\n",
    "myXI, myYI = np.meshgrid(np.linspace(-2, 2, 200), np.linspace(-2, 2, 200))\n",
    "# print shape\n",
    "print(myXI.shape)\n",
    "\n",
    "for i in range(0, len(myXI)):\n",
    "    for j in range(0, len(myYI)):\n",
    "        myXI[i,j] # x value of xi, yj point\n",
    "        myYI[i,j] # y value of xi, yj point\n",
    "        #myZI[i,j] = ??? # change this\n",
    "\n",
    "myZI = model.predict(np.c_[myXI.ravel(), myYI.ravel()])\n",
    "myZI = myZI.reshape(myXI.shape)"
   ]
  },
  {
   "cell_type": "markdown",
   "metadata": {},
   "source": [
    "**Question 2:** The code below shoes how to plot the NN output. How can we plot the NN decision boundary?"
   ]
  },
  {
   "cell_type": "code",
   "execution_count": null,
   "metadata": {},
   "outputs": [],
   "source": [
    "from matplotlib.colors import ListedColormap\n",
    "plt.figure(figsize=(20,7))\n",
    "\n",
    "# plot contour map of NN output\n",
    "# overlaid with test data points\n",
    "ax = plt.subplot(1, 2, 1)\n",
    "cm = plt.cm.RdBu\n",
    "cm_bright = ListedColormap(['#FF0000', '#0000FF'])\n",
    "cont_plot = ax.contourf(myXI, myYI, myZI, cmap=cm, alpha=.8)\n",
    "ax.scatter(X_test[:, 0], X_test[:, 1], c=Y_test, cmap=cm_bright, edgecolors='k')\n",
    "ax.set_xlim(-2,2)\n",
    "ax.set_ylim(-2,2)\n",
    "ax.set_xlabel(VARS[0])\n",
    "ax.set_ylabel(VARS[1])\n",
    "plt.colorbar(cont_plot,ax=ax, boundaries=[0,1],label='NN output')\n",
    "\n",
    "# plot decision boundary\n",
    "# overlaid with test data points\n",
    "ax = plt.subplot(1, 2, 2)\n",
    "cm = plt.cm.RdBu\n",
    "cm_bright = ListedColormap(['#FF0000', '#0000FF'])\n",
    "cont_plot = ax.contourf(myXI, myYI, myZI>0.5, cmap=cm, alpha=.8)\n",
    "ax.scatter(X_test[:, 0], X_test[:, 1], c=Y_test, cmap=cm_bright, edgecolors='k')\n",
    "ax.set_xlim(-2,2)\n",
    "ax.set_ylim(-2,2)\n",
    "ax.set_xlabel(VARS[0])\n",
    "ax.set_ylabel(VARS[1])\n",
    "plt.colorbar(cont_plot,ax=ax, boundaries=[0,1],label='NN output')"
   ]
  },
  {
   "cell_type": "markdown",
   "metadata": {},
   "source": [
    "**Question 3:** What happens if you increase/decrease the number of hidden layers?\n",
    "\n",
    "**Question 4:** What happens if you increase/decrease the number of nodes per hidden layer?\n",
    "\n",
    "**Question 5:** What happens if you add/remove dropout?\n",
    "\n",
    "**Question 6:** What happens if you add/remove early stopping?"
   ]
  },
  {
   "cell_type": "markdown",
   "metadata": {},
   "source": [
    "## Add prediction to `ROOT` trees\n",
    "Here we'll add the precition we've computed to `ROOT` trees."
   ]
  },
  {
   "cell_type": "code",
   "execution_count": null,
   "metadata": {},
   "outputs": [],
   "source": [
    "from root_numpy import root2array, array2root\n",
    "\n",
    "\n",
    "def get_features_from_file(filename='', treename='', branches=[]):\n",
    "    t = root2array(filename, treename=treename, branches=branches) # structured numpy array \n",
    "    #print t.shape \n",
    "    t = t.view(np.float32).reshape(t.shape + (-1,)) # normal numpy array (trick from https://stackoverflow.com/questions/5957380/convert-structured-array-to-regular-numpy-array)\n",
    "    #print t.shape\n",
    "    return t\n",
    "\n",
    "def write_prediction_to_file(features, model, filename='',treename='',branch=''):\n",
    "    y_predict_all = model.predict(features) # normal numpy array\n",
    "    #print y_predict_all.shape\n",
    "    y_predict_all = np.array(y_predict_all, dtype=[(branch, np.float32)]) # structured numpy array\n",
    "    #print y_predict_all.shape\n",
    "    array2root(y_predict_all, filename, treename=treename, mode='recreate')\n",
    "    \n",
    "X_all = get_features_from_file('data/ntuple_4mu_VV.root', \n",
    "                               treename='HZZ4LeptonsAnalysisReduced', \n",
    "                               branches=VARS)\n",
    "\n",
    "X_all = scaler.transform(X_all)\n",
    "\n",
    "write_prediction_to_file(X_all, \n",
    "                         model, \n",
    "                         filename='data/ntuple_4mu_VV_predict.root', \n",
    "                         treename='HZZ4LeptonsAnalysisReduced', \n",
    "                         branch='dense')\n",
    "\n",
    "X_all = get_features_from_file('data/ntuple_4mu_bkg.root', \n",
    "                               treename='HZZ4LeptonsAnalysisReduced', \n",
    "                               branches=VARS)\n",
    "\n",
    "X_all = scaler.transform(X_all)\n",
    "\n",
    "write_prediction_to_file(X_all, \n",
    "                         model, \n",
    "                         filename='data/ntuple_4mu_bkg_predict.root', \n",
    "                         treename='HZZ4LeptonsAnalysisReduced', \n",
    "                         branch='dense')"
   ]
  },
  {
   "cell_type": "code",
   "execution_count": null,
   "metadata": {},
   "outputs": [],
   "source": []
  }
 ],
 "metadata": {
  "kernelspec": {
   "display_name": "machine-learning-das",
   "language": "python",
   "name": "machine-learning-das"
  },
  "language_info": {
   "codemirror_mode": {
    "name": "ipython",
    "version": 2
   },
   "file_extension": ".py",
   "mimetype": "text/x-python",
   "name": "python",
   "nbconvert_exporter": "python",
   "pygments_lexer": "ipython2",
   "version": "2.7.15+"
  }
 },
 "nbformat": 4,
 "nbformat_minor": 1
}
