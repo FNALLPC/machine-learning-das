{
 "cells": [
  {
   "cell_type": "markdown",
   "metadata": {},
   "source": [
    "# Plotting\n",
    "Author: Javier Duarte"
   ]
  },
  {
   "cell_type": "markdown",
   "metadata": {},
   "source": [
    "## Plotting in `pyROOT`\n",
    "Here we do standard plotting in `pyROOT`"
   ]
  },
  {
   "cell_type": "code",
   "execution_count": null,
   "metadata": {},
   "outputs": [],
   "source": [
    "import ROOT as rt\n",
    "rt.gStyle.SetOptTitle(0)\n",
    "rt.gStyle.SetOptStat(0)\n",
    "\n",
    "treename = 'HZZ4LeptonsAnalysisReduced'\n",
    "\n",
    "tfile = {}\n",
    "tree = {}\n",
    "hist = {}\n",
    "tfile['VV'] = rt.TFile.Open('data/ntuple_4mu_VV.root')\n",
    "tfile['bkg'] = rt.TFile.Open('data/ntuple_4mu_bkg.root')\n",
    "tree['VV'] = tfile['VV'].Get(treename)\n",
    "tree['bkg'] = tfile['bkg'].Get(treename)\n",
    "\n",
    "hist['VV_f_mass4l'] = rt.TH1D('VV_f_mass4l','VV_f_mass4l',100, 80, 140)\n",
    "hist['bkg_f_mass4l'] = rt.TH1D('bkg_f_mass4l','bkg_f_mass4l',100, 80, 140)\n",
    "\n",
    "tree['VV'].Project('VV_f_mass4l','f_mass4l') \n",
    "tree['bkg'].Project('bkg_f_mass4l','f_mass4l')\n",
    "\n",
    "hist['VV_f_massjj'] = rt.TH1D('VV_f_massjj','VV_f_massjj',100, 0, 2000)\n",
    "hist['bkg_f_massjj'] = rt.TH1D('bkg_f_massjj','bkg_f_massjj',100, 0, 2000)\n",
    "\n",
    "tree['VV'].Project('VV_f_massjj','f_massjj')\n",
    "tree['bkg'].Project('bkg_f_massjj','f_massjj')\n",
    "\n",
    "hist['VV_f_mass4l'].SetLineColor(rt.kRed)\n",
    "hist['VV_f_massjj'].SetLineColor(rt.kRed)\n",
    "\n",
    "%jsroot off\n",
    "c1 = rt.TCanvas('c1','c1',500,400)\n",
    "hist['VV_f_mass4l'].GetXaxis().SetTitle('f_mass4l')\n",
    "hist['VV_f_mass4l'].GetYaxis().SetTitle('Frequency')\n",
    "hist['VV_f_mass4l'].Draw('hist')\n",
    "hist['bkg_f_mass4l'].Draw('same')\n",
    "\n",
    "\n",
    "legend = rt.TLegend(0.75,0.75,0.9,0.9)\n",
    "legend.AddEntry(hist['bkg_f_mass4l'], ' bkg', 'f')\n",
    "legend.AddEntry(hist['VV_f_mass4l'], ' VV', 'f')\n",
    "legend.Draw()\n",
    "\n",
    "c1.Draw()\n",
    "\n",
    "c2 = rt.TCanvas('c2','c2',500,400)\n",
    "hist['bkg_f_massjj'].GetXaxis().SetTitle('f_massjj')\n",
    "hist['bkg_f_massjj'].GetYaxis().SetTitle('Frequency')\n",
    "hist['bkg_f_massjj'].Draw('hist')\n",
    "hist['VV_f_massjj'].Draw('same')\n",
    "\n",
    "legend.Draw()\n",
    "\n",
    "c2.Draw()"
   ]
  },
  {
   "cell_type": "markdown",
   "metadata": {},
   "source": [
    "## Plotting in `matplotlib`\n",
    "Here we do the analagous plotting in `matplotlib` with `uproot`"
   ]
  },
  {
   "cell_type": "code",
   "execution_count": null,
   "metadata": {},
   "outputs": [],
   "source": [
    "import uproot\n",
    "import numpy as np\n",
    "import pandas as pd\n",
    "import h5py\n",
    "\n",
    "treename = 'HZZ4LeptonsAnalysisReduced'\n",
    "filename = {}\n",
    "upfile = {}\n",
    "params = {}\n",
    "\n",
    "filename['bkg'] = 'data/ntuple_4mu_bkg.root'\n",
    "filename['VV'] = 'data/ntuple_4mu_VV.root'\n",
    "\n",
    "upfile['bkg'] = uproot.open(filename['bkg'])\n",
    "params['bkg'] = upfile['bkg'][treename].arrays() # dictionary of NumPy arrays\n",
    "upfile['VV'] = uproot.open(filename['VV'])\n",
    "params['VV'] = upfile['VV'][treename].arrays() "
   ]
  },
  {
   "cell_type": "code",
   "execution_count": null,
   "metadata": {},
   "outputs": [],
   "source": [
    "df = {}\n",
    "VARS = ['f_mass4l', 'f_massjj']\n",
    "df['bkg'] = pd.DataFrame(params['bkg'],columns=VARS)\n",
    "df['VV'] = pd.DataFrame(params['VV'],columns=VARS)"
   ]
  },
  {
   "cell_type": "code",
   "execution_count": null,
   "metadata": {},
   "outputs": [],
   "source": [
    "import matplotlib.pyplot as plt\n",
    "%matplotlib inline\n",
    "plt.figure(figsize=(5, 4),dpi=100)\n",
    "plt.xlabel(VARS[0])\n",
    "bins = np.linspace(80, 140, 100)\n",
    "df['bkg'][VARS[0]].plot.hist(bins, alpha=1, label='bkg',histtype='step')\n",
    "df['VV'][VARS[0]].plot.hist(bins, alpha=1, label='VV',histtype='step')\n",
    "plt.legend(loc='upper right')\n",
    "plt.xlim(80,140)\n",
    "plt.figure(figsize=(5, 4),dpi=100)\n",
    "plt.xlabel(VARS[1])\n",
    "bins = np.linspace(0, 2000, 100)\n",
    "df['bkg'][VARS[1]].plot.hist(bins, alpha=1, label='bkg',histtype='step')\n",
    "df['VV'][VARS[1]].plot.hist(bins, alpha=1, label='VV',histtype='step')\n",
    "plt.legend(loc='upper right')\n",
    "plt.xlim(0,2000)"
   ]
  },
  {
   "cell_type": "code",
   "execution_count": null,
   "metadata": {},
   "outputs": [],
   "source": []
  }
 ],
 "metadata": {
  "kernelspec": {
   "display_name": "machine-learning-das",
   "language": "python",
   "name": "machine-learning-das"
  },
  "language_info": {
   "codemirror_mode": {
    "name": "ipython",
    "version": 2
   },
   "file_extension": ".py",
   "mimetype": "text/x-python",
   "name": "python",
   "nbconvert_exporter": "python",
   "pygments_lexer": "ipython2",
   "version": "2.7.15+"
  }
 },
 "nbformat": 4,
 "nbformat_minor": 2
}
