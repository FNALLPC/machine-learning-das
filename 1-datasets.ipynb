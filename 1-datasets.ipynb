{
 "cells": [
  {
   "cell_type": "markdown",
   "metadata": {},
   "source": [
    "# Datasets\n",
    "Author: Javier Duarte\n"
   ]
  },
  {
   "cell_type": "markdown",
   "metadata": {},
   "source": [
    "## Convert datasets from `ROOT` to `HDF5`\n",
    "Here we convert the datasets using `root2hdf5` utility which comes with `rootpy`: http://www.rootpy.org/commands/root2hdf5.html"
   ]
  },
  {
   "cell_type": "code",
   "execution_count": null,
   "metadata": {},
   "outputs": [],
   "source": [
    "%%bash\n",
    "root2hdf5 -f data/ntuple_4mu_VV.root data/ntuple_4mu_bkg.root"
   ]
  },
  {
   "cell_type": "markdown",
   "metadata": {},
   "source": [
    "## Load `HDF5` datasets\n",
    "Here we load the converted `HDF5` datasets into structured `NumPy` arrays. Note these structures arrays permit one to manipulate the data by named fields: https://docs.scipy.org/doc/numpy-1.13.0/user/basics.rec.html"
   ]
  },
  {
   "cell_type": "code",
   "execution_count": null,
   "metadata": {},
   "outputs": [],
   "source": [
    "import numpy as np\n",
    "import h5py\n",
    "\n",
    "treename = 'HZZ4LeptonsAnalysisReduced'\n",
    "filename = {}\n",
    "h5file = {}\n",
    "params = {}\n",
    "\n",
    "filename['bkg'] = 'data/ntuple_4mu_bkg.h5'\n",
    "filename['VV'] = 'data/ntuple_4mu_VV.h5'\n",
    "\n",
    "h5file['bkg'] = h5py.File(filename['bkg'], 'r') # open HDF5 file read-only\n",
    "h5file['VV'] = h5py.File(filename['VV'], 'r') \n",
    "\n",
    "params['bkg'] = h5file['bkg'][treename][()] # returns a structured NumPy array\n",
    "params['VV'] = h5file['VV'][treename][()]\n",
    "\n",
    "# print all variables\n",
    "print(params['bkg'].dtype.names)\n",
    "\n",
    "# print the shape of the NumPy array\n",
    "print(params['bkg'].shape)\n",
    "\n",
    "# print the the first entry of the NumPy array\n",
    "print(params['bkg'][0])\n",
    "\n",
    "# print mass4l value of first entry\n",
    "print(params['bkg'][0]['f_mass4l'])\n",
    "\n",
    "# print massjj value of first entry\n",
    "print(params['bkg'][0]['f_massjj'])"
   ]
  },
  {
   "cell_type": "markdown",
   "metadata": {},
   "source": [
    "## Convert `NumPy` arrays to `pandas` DataFrames\n",
    "In my opinion, `pandas` DataFrames are a more convenient/flexible data container in python: https://pandas.pydata.org/pandas-docs/stable/generated/pandas.DataFrame.html. \n",
    "So we'll use this instead of structured `NumPy` arrays."
   ]
  },
  {
   "cell_type": "code",
   "execution_count": null,
   "metadata": {},
   "outputs": [],
   "source": [
    "import pandas as pd\n",
    "\n",
    "df = {}\n",
    "df['bkg'] = pd.DataFrame(params['bkg'])\n",
    "df['VV'] = pd.DataFrame(params['VV'])\n",
    "\n",
    "# print first entry\n",
    "print(df['bkg'].iloc[:1])\n",
    "\n",
    "# print shape of DataFrame\n",
    "print(df['bkg'].shape)\n",
    "\n",
    "# print first entry for f_mass4l and f_massjj\n",
    "print(df['bkg'][['f_mass4l','f_massjj']].iloc[:1])\n",
    "\n",
    "# convert back into unstructured NumPY array\n",
    "print(df['bkg'].values)\n",
    "print(df['bkg'].values.shape)\n",
    "\n",
    "# get boolean array\n",
    "print(df['bkg']['f_mass4l'] > 125)\n",
    "\n",
    "# cut usigg this boolean array\n",
    "print(df['bkg']['f_mass4l'][df['bkg']['f_mass4l'] > 125])"
   ]
  },
  {
   "cell_type": "code",
   "execution_count": null,
   "metadata": {},
   "outputs": [],
   "source": []
  }
 ],
 "metadata": {
  "kernelspec": {
   "display_name": "machine-learning-das",
   "language": "python",
   "name": "machine-learning-das"
  },
  "language_info": {
   "codemirror_mode": {
    "name": "ipython",
    "version": 2
   },
   "file_extension": ".py",
   "mimetype": "text/x-python",
   "name": "python",
   "nbconvert_exporter": "python",
   "pygments_lexer": "ipython2",
   "version": "2.7.15+"
  }
 },
 "nbformat": 4,
 "nbformat_minor": 2
}
